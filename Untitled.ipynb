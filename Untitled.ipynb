{
 "cells": [
  {
   "cell_type": "markdown",
   "metadata": {},
   "source": [
    "# Create and deploy an Azure Machine Learning web service\n",
    "\n",
    "Although web services can be created directly within [Azure ML Studio](https://studio.azureml.net), in some cases it may be more straightforward to develop and deploy a web service entirely within a Python notebook. Python notebooks allow rapid prototyping and allow developers to include commentary in Markdown. This tutorial demonstrates how the [`azureml`](https://github.com/Azure/Azure-MachineLearning-ClientLibrary-Python) package can be used to deploy Azure ML web services directly from within a Python notebook (or other Python environment).\n",
    "<span style=\"color:white\">`word`</span>\n",
    "> **Note**: the `azureml` package presently works only with Python 2; be sure to set the notebook's kernel appropriately.\n",
    "\n",
    "In this notebook:\n",
    "- [Prerequisites](#Prerequisites)\n",
    "   - [Credentials needed to connect to your workspace](#Credentials-needed-to-connect-to-your-workspace)\n",
    "- [Explore beaver fever](#explore-beaver-fever)\n",
    "   - [Loading and exploring the dataset](#Loading-and-exploring-the-dataset)\n",
    "   - [Transferring data to and from Azure ML Studio](#Transferring-data-to-and-from-Azure-ML-Studio)\n",
    "- [Creating the predictive model](#Creating-the-predictive-model)\n",
    "- [Deploying the model as a web service](#Deploying-the-model-as-a-web-service)\n",
    "- [Consuming the web service](#Consuming-the-web-service)\n",
    "\n",
    "Refer to the [azureml GitHub repository](https://github.com/Azure/Azure-MachineLearning-ClientLibrary-Python) for more information on its capabilities.\n",
    "\n",
    "## Prerequisites\n",
    "\n",
    "This walkthrough assumes that you're familiar with Python and [Azure ML Studio](https://studio.azureml.net). You also need a workspace in Azure ML Studio and its credentials, which is described in the next section.\n",
    "\n",
    "Your environment also requires the `azureml` package, which is installed by default with Azure Notebooks.\n",
    "\n",
    "### Create and connect to an Azure ML Studio workspace\n",
    "\n",
    "The `azureml` package uses your workspace ID and authorization token to connect to the workspace, provide that you're the owner of the workspace (authorized users who are not owners need to ask an owner for these details):\n",
    "\n",
    "1. Open [Azure ML Studio](https://studio.azureml.net) in a browser and sign in with a Microsoft Account. Azure ML Studio is free and doesn't require an Azure subscription. Once signed in, you're in your \"workspace.\"\n",
    "\n",
    "1. Select the **Settings** button on the left pane:\n",
    "\n",
    "    ![Settings button](https://github.com/Microsoft/AzureNotebooks/blob/master/Samples/images/azure-ml-studio-settings.png?raw=true)<br/><br/>\n",
    "\n",
    "1. On the **Name** tab, the **Workspace ID** field contains your workspace ID. Copy that ID into the `workspace_id` value in the code cell that follows.\n",
    "\n",
    "    ![Location of workspace ID](https://github.com/Microsoft/AzureNotebooks/blob/master/Samples/images/azure-ml-studio-workspace-id.png?raw=true)<br/><br/>\n",
    "\n",
    "1. Select the **Authorization Tokens** tab and copy either token into the `authorization_token` value in the code cell that follows.\n",
    "\n",
    "    ![Location of authorization token](https://github.com/Microsoft/AzureNotebooks/blob/master/Samples/images/azure-ml-studio-tokens.png?raw=true)<br/><br/>\n",
    "\n",
    "1. Run the code cell; if it runs without error, you're ready to continue."
   ]
  },
  {
   "cell_type": "code",
   "execution_count": null,
   "metadata": {},
   "outputs": [],
   "source": []
  }
 ],
 "metadata": {
  "kernelspec": {
   "display_name": "Python 3",
   "language": "python",
   "name": "python3"
  },
  "language_info": {
   "codemirror_mode": {
    "name": "ipython",
    "version": 3
   },
   "file_extension": ".py",
   "mimetype": "text/x-python",
   "name": "python",
   "nbconvert_exporter": "python",
   "pygments_lexer": "ipython3",
   "version": "3.7.3"
  }
 },
 "nbformat": 4,
 "nbformat_minor": 2
}
