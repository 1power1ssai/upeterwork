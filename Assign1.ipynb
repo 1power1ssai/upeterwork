This file contains first assignment of course eral
import pandas as pd
import numpy as np
print("Hello! Capstone Project Course!")
